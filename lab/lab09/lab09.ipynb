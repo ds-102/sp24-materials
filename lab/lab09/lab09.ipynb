{
 "cells": [
  {
   "cell_type": "code",
   "execution_count": null,
   "id": "b7dce17c",
   "metadata": {
    "deletable": false,
    "editable": false
   },
   "outputs": [],
   "source": [
    "# Initialize Otter\n",
    "import otter\n",
    "grader = otter.Notebook(\"lab09.ipynb\")"
   ]
  },
  {
   "cell_type": "markdown",
   "id": "622a82d6",
   "metadata": {},
   "source": [
    "# Lab 9: Estimating Causal Effects via Instrumental Variables\n",
    "Welcome to the ninth DS102 lab! \n",
    "\n",
    "The goal of this lab is to implement and get a better understanding of Instrumental Variables discussed in the lecture. IVs provide us with a way to estimate a causal effect even when the treatment itself is not randomly assigned.\n",
    "\n",
    "The code you need to write is indicated by `...`\n",
    "\n",
    "## Collaboration Policy\n",
    "Data science is a collaborative activity. While you may talk with others about the labs, we ask that you **write your solutions individually**. If you do discuss the assignments with others please **include their names** in the cell below.\n",
    "\n",
    "## Submission\n",
    "See the [Gradescope Submission Guidelines post](https://edstem.org/us/courses/52891/discussion/4179226) for details on how to submit your lab.\n",
    "\n",
    "**For full credit, this assignment should be completed and submitted before Wednesday, April 3rd, 2024 at 5:00 PM PT.**"
   ]
  },
  {
   "cell_type": "markdown",
   "id": "34079dda",
   "metadata": {},
   "source": [
    "## Collaborators\n",
    "Write the names of your collaborators in this cell.\n",
    "\n",
    "`<Collaborator Name> <Collaborator e-mail>`"
   ]
  },
  {
   "cell_type": "code",
   "execution_count": null,
   "id": "74da010c",
   "metadata": {},
   "outputs": [],
   "source": [
    "import matplotlib.pyplot as plt\n",
    "import numpy as np\n",
    "import pandas as pd\n",
    "import statsmodels.api as sm\n",
    "import seaborn as sns\n",
    "import itertools\n",
    "from ipywidgets import interact, interactive\n",
    "\n",
    "import hashlib\n",
    "\n",
    "sns.set(style=\"dark\")\n",
    "plt.style.use(\"ggplot\")\n",
    "%matplotlib inline"
   ]
  },
  {
   "cell_type": "markdown",
   "id": "3eb08903",
   "metadata": {},
   "source": [
    "# Instrumental Variables Background\n",
    "Suppose that we measure $Z$, the number of books a student read in the last year, and we are interested in determing how $Z$ affects an observed target outcome $Y$, the student's SAT score. The effect we are interested in is **causal** because we want to know how $Y$ changes if all randomness other than $Z$ remains fixed, and only $Z$ changes. We will refer to $Z$ as the \"treatment\". In general, $Z$ might be multi-dimensional, however for the purpose of this exercise we take $Z \\in\\mathbb{R}$.\n",
    "\n",
    "Suppose there's also a confounder $X$, which is the income of the student's family. We don't observe $X$, but it affects both the number of books the student reads (wealthier families may have more access to books) and the student's SAT score (wealthier students may have more access to SAT tutoring).\n",
    "\n",
    "We assume that the outcome is generated as a linear function of the confounder $X$ and treatment $Z$, with additive noise $\\epsilon$:\n",
    "$$Y = \\beta_1 Z + \\beta_2 X + \\epsilon.$$\n",
    "\n",
    "The goal is to estimate $\\beta_1$, the true causal effect of the number of books a student reads on their SAT score."
   ]
  },
  {
   "cell_type": "markdown",
   "id": "797f8184",
   "metadata": {},
   "source": [
    "### Danger of bias\n",
    "As we saw in the [instrumental variable lecture note](https://docs.google.com/presentation/d/1b_-s9ZDPYvDKkmaegqP_SOspKs6vCsS-ZdIrtJEqFgA/edit#slide=id.g2c2e1ab228e_0_318), if the confounder $X$ is highly correlated with $Z$, performing ordinary least squares (OLS) on the observed data $Z$, $Y$ can lead to very biased results. Because wealthier families may have access to more books, without observing $X$ we cannot tell if correlation between $Z$ and $Y$ is due to a causal effect of reading books or is due to the higher average family income."
   ]
  },
  {
   "cell_type": "markdown",
   "id": "fa81baee",
   "metadata": {},
   "source": [
    "### Instrumental variables (IVs) and two-stage least squares (2SLS)\n",
    "\n",
    "One way to get around this issue is by using **instrumental variables (IVs)**. A valid instrument $W$ is a variable which is independent of the confounder $X$, and affects $Y$ only through $Z$. For example, we can create such an instrument $W$ by employing *encouragement design*, where we randomly assign students to \"readathons\" of different durations. See the figure below for a causal diagram:\n",
    "\n",
    "<img src=\"causal_diagram.png\" width=\"400\"> </img>\n",
    "\n",
    "Using the instrumental variable $W$, we can estimate $\\beta_1$ by first \"guessing\" $Z$ from $W$ using ordinary least squares (OLS) (denoted $\\hat Z$), and then regressing $Y$ onto $\\hat Z$ (instead of $Z$) using OLS as well. This procedure is known as **two-stage least squares (2SLS)**. \n",
    "\n",
    "In this lab, we will use a toy example with simulated data to illustrate the bias that can occur when naively performing OLS on the observed data $Z, Y$.\n",
    "- In **Question 1**, we'll explore an idealized situation in which we have data about all our possible confounders.\n",
    "- In **Question 2**, we'll illustrate why directly applying OLS can create biased results.\n",
    "- In **Question 3**, we'll show how 2SLS can get around the drawbacks of OLS and achieve a better estimate of $\\beta_1$."
   ]
  },
  {
   "cell_type": "markdown",
   "id": "fb928073",
   "metadata": {},
   "source": [
    "# Model setup\n",
    "\n",
    "For our toy example, suppose that we have historical data from $n=10,000$ different students with the following variables: \n",
    "\n",
    "$Z^{(i)} =$ number of books the student read in the last year, \n",
    "\n",
    "$W^{(i)} = $ duration of the \"readathon\" at the student's school.\n",
    "\n",
    "$Y^{(i)} = $ the student's SAT score. \n",
    "\n",
    "Suppose that the student's family income $X^{(i)}$ affects both $Z^{(i)}$ and $Y^{(i)}$, but is **not observed**.\n",
    "\n",
    "## Data Generation\n",
    "\n",
    "The student's SAT score is linear in the number of books the student read and the student's family income:\n",
    "$$Y^{(i)} = \\beta_1 Z^{(i)} + \\beta_2 X^{(i)} + \\epsilon^{(i)}.$$ \n",
    "\n",
    "The number of books a student reads is linear in the duration of the readathon and the student's family income:\n",
    "$$Z^{(i)} = \\gamma_1 W^{(i)} + \\gamma_2 X^{(i)} + \\epsilon'^{(i)},$$\n",
    "\n",
    "### The true model was generated in the following manner:\n",
    " - Sample $W^{(i)}\\sim N(20,5)$    $\\ \\longleftarrow\\ $   *Duration of Readathon for student* $i$ \n",
    " - Sample $X^{(i)} \\sim \\text{Normal}(50, 10)$   $\\ \\longleftarrow\\ $   *Income in tens of thousands (10,000) dollars for the family of student* $i$ **(unobserved variable)**\n",
    " - Generate $Z^{(i)}$ by setting $\\gamma_1 = \\gamma_2 =1$ and sampling a noise $\\epsilon'^{(i)}\\sim N(0,5)$   $\\ \\longleftarrow\\ $  *Number of books read by student* $i$\n",
    " - Generate $Y^{(i)}$ by setting $\\beta_1 = 5$, $\\beta_2 = 12$  and sampling a noise $\\epsilon^{(i)}\\sim N(0,10)$ $\\ \\longleftarrow\\ $  *SAT score for student* $i$.\n",
    " \n",
    "**Note: The data in this lab are not observed in real life. They are instead synthetic data generated according to the procedure described above.**\n",
    "\n",
    "## Load the data\n",
    "Run the cells below to load and plot the data."
   ]
  },
  {
   "cell_type": "code",
   "execution_count": null,
   "id": "c8cf630c",
   "metadata": {},
   "outputs": [],
   "source": [
    "# Do not modify: Just run this to load the data\n",
    "student_data = pd.read_csv(\"SAT_data.csv\")\n",
    "student_data.head()"
   ]
  },
  {
   "cell_type": "code",
   "execution_count": null,
   "id": "344a9002",
   "metadata": {},
   "outputs": [],
   "source": [
    "# make a pairplot illustrating the pairwise correlations between different columns in the dataset\n",
    "fig = sns.pairplot(student_data,  plot_kws=dict(marker=\"o\", alpha = 0.5))\n",
    "for i, j in zip(*np.triu_indices_from(fig.axes, 1)):\n",
    "    fig.axes[i, j].set_visible(False)\n",
    "plt.show()"
   ]
  },
  {
   "cell_type": "markdown",
   "id": "cca820c0",
   "metadata": {},
   "source": [
    "In the plot above on the main diagonal we have the histograms of each variable, and on the off-diagonals we have scatter plots illustrating the corelations between pair of variables. "
   ]
  },
  {
   "cell_type": "markdown",
   "id": "9b7598be",
   "metadata": {},
   "source": [
    "# Question 1: Understanding the Model"
   ]
  },
  {
   "cell_type": "markdown",
   "id": "82f2c582",
   "metadata": {},
   "source": [
    "## 1a) Correlations between variables\n",
    "\n",
    "Let's start our analysis by evaluating the variables in our synthetic data and the relationships between each variable."
   ]
  },
  {
   "cell_type": "markdown",
   "id": "1d269e4b",
   "metadata": {},
   "source": [
    "<!-- BEGIN QUESTION -->\n",
    "\n",
    "**Question 1a.i)** Just by inspecting the pairplot above, rank the following pairwise relationships in order from most correlated to least correlated: \n",
    "#### Z &  X, Z &  Y, Z & W, X & Y, X & W, Y & W"
   ]
  },
  {
   "cell_type": "markdown",
   "id": "1a9727c1",
   "metadata": {},
   "source": [
    "_Type your answer here, replacing this text._"
   ]
  },
  {
   "cell_type": "markdown",
   "id": "bcc881e6",
   "metadata": {},
   "source": [
    "<!-- END QUESTION -->\n",
    "\n",
    "<!-- BEGIN QUESTION -->\n",
    "\n",
    "**Question 1a.ii)** Which of the above pairs appear to be independent?"
   ]
  },
  {
   "cell_type": "markdown",
   "id": "ffde04d7",
   "metadata": {},
   "source": [
    "_Type your answer here, replacing this text._"
   ]
  },
  {
   "cell_type": "markdown",
   "id": "a35f52c3",
   "metadata": {},
   "source": [
    "<!-- END QUESTION -->\n",
    "\n",
    "## 1b) Understanding the marginal impacts"
   ]
  },
  {
   "cell_type": "markdown",
   "id": "b33bdd81",
   "metadata": {},
   "source": [
    "Inspect the Data Generation section above, and answer the following questions. "
   ]
  },
  {
   "cell_type": "markdown",
   "id": "e924a93b",
   "metadata": {},
   "source": [
    "<!-- BEGIN QUESTION -->\n",
    "\n",
    "**Question 1b.i)** According to the model we used to generate our synthetic data, what is the true causal effect of an extra book read on the SAT score (i.e. if you read one more book by how much will the SAT score change)?"
   ]
  },
  {
   "cell_type": "markdown",
   "id": "20c1e7ef",
   "metadata": {},
   "source": [
    "_Type your answer here, replacing this text._"
   ]
  },
  {
   "cell_type": "markdown",
   "id": "9240de14",
   "metadata": {},
   "source": [
    "<!-- END QUESTION -->\n",
    "\n",
    "<!-- BEGIN QUESTION -->\n",
    "\n",
    "**Question 1b.ii)** According to the model we used to generate our synthetic data, what is the true causal effect of increasing income by \\$10000 on the SAT score?"
   ]
  },
  {
   "cell_type": "markdown",
   "id": "94318026",
   "metadata": {},
   "source": [
    "_Type your answer here, replacing this text._"
   ]
  },
  {
   "cell_type": "markdown",
   "id": "2b7b063c",
   "metadata": {},
   "source": [
    "<!-- END QUESTION -->\n",
    "\n",
    "<!-- BEGIN QUESTION -->\n",
    "\n",
    "**Question 1b.iii)** What is the true causal effect of an extra readathon day on the number of books read?"
   ]
  },
  {
   "cell_type": "markdown",
   "id": "4ac60cd6",
   "metadata": {},
   "source": [
    "_Type your answer here, replacing this text._"
   ]
  },
  {
   "cell_type": "markdown",
   "id": "c75b1daf",
   "metadata": {},
   "source": [
    "<!-- END QUESTION -->\n",
    "\n",
    "<!-- BEGIN QUESTION -->\n",
    "\n",
    "**Question 1b.iv)** What is the true causal effect of increaing income by \\$10000 on the number of books read?"
   ]
  },
  {
   "cell_type": "markdown",
   "id": "95bd867b",
   "metadata": {},
   "source": [
    "_Type your answer here, replacing this text._"
   ]
  },
  {
   "cell_type": "markdown",
   "id": "9f33052c",
   "metadata": {},
   "source": [
    "<!-- END QUESTION -->\n",
    "\n",
    "## 1c) When are readathons a valid instrument?\n",
    "\n",
    "Let's think about the conditions on readathons we would need for $W$ to be a valid instrument."
   ]
  },
  {
   "cell_type": "markdown",
   "id": "b4689830",
   "metadata": {},
   "source": [
    "<!-- BEGIN QUESTION -->\n",
    "\n",
    "**Question 1c.i)** What must be true about the relationship between readathons and income for $W$ to be a valid instrument? Give an example of how this might be violated."
   ]
  },
  {
   "cell_type": "markdown",
   "id": "05992ea2",
   "metadata": {},
   "source": [
    "_Type your answer here, replacing this text._"
   ]
  },
  {
   "cell_type": "markdown",
   "id": "8f97d1a8",
   "metadata": {},
   "source": [
    "<!-- END QUESTION -->\n",
    "\n",
    "<!-- BEGIN QUESTION -->\n",
    "\n",
    "**Question 1c.ii)** What must be true about the relationship between readathons and SAT score for $W$ to be a valid instrument? Give an example of how this might be violated?"
   ]
  },
  {
   "cell_type": "markdown",
   "id": "b19703d0",
   "metadata": {},
   "source": [
    "_Type your answer here, replacing this text._"
   ]
  },
  {
   "cell_type": "markdown",
   "id": "84a64596",
   "metadata": {},
   "source": [
    "<!-- END QUESTION -->\n",
    "\n",
    "## Ordinary Least Squares\n",
    "If we had access to income data $X$, then we could estimate directely $\\beta_1$, $\\beta_2$, $\\gamma_1$, $\\gamma_2$ from the data by setting up a linear regression problem and finding Ordinary Least Squares estimator. \n",
    "\n",
    "$$\\hat\\beta_1, \\hat\\beta_2 = \\arg\\min_{\\beta_1, \\beta_2}\\Vert Y - \\beta_1Z - \\beta_2X \\Vert_2^2$$\n",
    "$$\\hat\\gamma_1, \\hat\\gamma_2 = \\arg\\min_{\\gamma_1, \\gamma_2}\\Vert Z - \\gamma_1W - \\gamma_2X \\Vert_2^2$$\n",
    "\n",
    "To find OLS estimators we will use [`sm.OLS`](https://www.statsmodels.org/stable/examples/notebooks/generated/ols.html?highlight=ols) from `statsmodels.api`."
   ]
  },
  {
   "cell_type": "code",
   "execution_count": null,
   "id": "8c94c04c",
   "metadata": {},
   "outputs": [],
   "source": [
    "# No TODOs here: Just examine the code\n",
    "def fit_OLS_model(df, target_variable, explanatory_variables, intercept = False):\n",
    "    \"\"\"\n",
    "    Fits an OLS model from data.\n",
    "    \n",
    "    Inputs:\n",
    "        df: pandas DataFrame\n",
    "        target_variable: string, name of the target variable\n",
    "        explanatory_variables: list of strings, names of the explanatory variables\n",
    "        intercept: bool, if True add intercept term\n",
    "    Outputs:\n",
    "        fitted_model: model containing OLS regression results\n",
    "    \"\"\"\n",
    "    \n",
    "    target = df[target_variable]\n",
    "    inputs = df[explanatory_variables]\n",
    "    if intercept:\n",
    "        inputs = sm.add_constant(inputs)\n",
    "    \n",
    "    fitted_model = sm.OLS(target, inputs).fit()\n",
    "    return(fitted_model)"
   ]
  },
  {
   "cell_type": "code",
   "execution_count": null,
   "id": "d7cade37",
   "metadata": {},
   "outputs": [],
   "source": [
    "# Computing the OLS estimators for gamma_1 and gamma_2\n",
    "gammas_model = fit_OLS_model(student_data, 'NumBooks', ['ReadathonDuration', 'Income'])\n",
    "print(gammas_model.summary())"
   ]
  },
  {
   "cell_type": "code",
   "execution_count": null,
   "id": "c6bc4843",
   "metadata": {},
   "outputs": [],
   "source": [
    "# Print the fitted_estimators\n",
    "gammas = gammas_model.params\n",
    "print(\"The estimated causal effect on number of books read of an additional Readathon day is {:.2f}\".format(gammas[0]))\n",
    "print(\"The estimated causal effect on number of books read of an additional $10000 is {:.2f}\".format(gammas[1]))\n",
    "# The numbers you get should be very close to you answer in 1.b"
   ]
  },
  {
   "cell_type": "markdown",
   "id": "82398ebe",
   "metadata": {},
   "source": [
    "## 1d) Estimate causal effect of `NumBooks` and `Income` on the SAT Score\n",
    "\n",
    "Fill in the code below (similar as above) to estimate the causal effect of `NumBooks` and `Income` on the SAT Scores. "
   ]
  },
  {
   "cell_type": "code",
   "execution_count": null,
   "id": "c1edbad7",
   "metadata": {
    "tags": []
   },
   "outputs": [],
   "source": [
    "# Compute OLS estimators for beta_1 and beta_2\n",
    "betas_model = ...\n",
    "print(betas_model.summary())"
   ]
  },
  {
   "cell_type": "code",
   "execution_count": null,
   "id": "88995faf",
   "metadata": {
    "deletable": false,
    "editable": false
   },
   "outputs": [],
   "source": [
    "grader.check(\"q1d\")"
   ]
  },
  {
   "cell_type": "code",
   "execution_count": null,
   "id": "8a4d753e",
   "metadata": {},
   "outputs": [],
   "source": [
    "# Print the fitted_estimators\n",
    "betas = betas_model.params\n",
    "print(\"The estimated causal effect on SAT score of an additional book read is {:.2f}\".format(betas['NumBooks']))\n",
    "print(\"The estimated causal effect on SAT score of an additional $10000 is {:.2f}\".format(betas['Income']))\n",
    "# The numbers you get should be very close to you answer in 1.b"
   ]
  },
  {
   "cell_type": "markdown",
   "id": "6068a8ad",
   "metadata": {},
   "source": [
    "## Summing up Question 1\n",
    "\n",
    "In Question 1, we saw how we can estimate all causal relationships if we have access to the income variable. This mirrors an idealized world where we have data for *every possible confounder*: if we knew this information for every individual/observation in our data, we could trivially calculate the causal effect of interest.\n",
    "\n",
    "However, in reality, we almost never have complete access to data on our confounding variables. What do we do then? \n",
    "\n",
    "**Our next goal**: For the following two questions, we will mirror this reality by attempting to estimate the true causal effect of the number of books a student reads on their SAT score **without access** to the Income variable."
   ]
  },
  {
   "cell_type": "markdown",
   "id": "bf0599eb",
   "metadata": {},
   "source": [
    "# Question 2: Naive OLS on the observed variables $Z$, $Y$.\n",
    "In class, we've discussed the [dangers of blindly using observational data to establish causality](https://data102.datahub.berkeley.edu/hub/user-redirect/git-pull?repo=https%3A%2F%2Fgithub.com%2Fds-102%2Ffa23-materials&urlpath=tree%2Ffa23-materials%2Flecture%2Flecture15%2F01_association_correlation_causation.ipynb&branch=main). Here, we'll demonstrate this in a more concrete manner by naively attempting to estimate the causal effect $\\beta_1$ by using plain linear regression (OLS) on the observed variables $Z$ and $Y$. This time we will include an intercept term:\n",
    "\n",
    "$$\\hat\\beta_1, \\hat c = \\arg\\min_{\\beta_1, c} \\Vert Y - \\beta_1Z - c \\Vert^2_2$$"
   ]
  },
  {
   "cell_type": "markdown",
   "id": "6b0ce1fc",
   "metadata": {},
   "source": [
    "## 2.a) Fit Naive OLS\n",
    "Fill in the code below to fit the OLS model described above."
   ]
  },
  {
   "cell_type": "code",
   "execution_count": null,
   "id": "7a27aa91",
   "metadata": {
    "tags": []
   },
   "outputs": [],
   "source": [
    "# Fit OLS parameters to predict Y from Z.\n",
    "beta_naive_model = ...\n",
    "print(beta_naive_model.summary())"
   ]
  },
  {
   "cell_type": "code",
   "execution_count": null,
   "id": "8ef9c350",
   "metadata": {
    "deletable": false,
    "editable": false
   },
   "outputs": [],
   "source": [
    "grader.check(\"q2a\")"
   ]
  },
  {
   "cell_type": "code",
   "execution_count": null,
   "id": "2c4de160",
   "metadata": {},
   "outputs": [],
   "source": [
    "print(\"The Naive OLS estimate of beta_1 is {:.2f}, while the true beta_1 is {}\".format(beta_naive_model.params[1], 5))"
   ]
  },
  {
   "cell_type": "markdown",
   "id": "0b90c41e",
   "metadata": {},
   "source": [
    "<!-- BEGIN QUESTION -->\n",
    "\n",
    "## 2.b) Does the Naive approach overestimate or under estimate the value of reading books?\n",
    "\n",
    "*Hint: Answer this question by comparing the naive estimate and the true value of $\\beta_1$*"
   ]
  },
  {
   "cell_type": "markdown",
   "id": "11f0a74b",
   "metadata": {},
   "source": [
    "_Type your answer here, replacing this text._"
   ]
  },
  {
   "cell_type": "markdown",
   "id": "fafe9ced",
   "metadata": {},
   "source": [
    "<!-- END QUESTION -->\n",
    "\n",
    "# 3. Instrumental variables and 2SLS\n",
    "\n",
    "Clearly, using OLS on observational data without confounders is not a valid way to estimate causal effects.\n",
    "\n",
    "To eliminate bias, a better solution is to utilize a method called **Two-stage least squares regression (2SLS)** in conjunction with an **instrumental variable**.\n",
    "\n",
    "The process proceeds in two parts:\n",
    "1. In the first stage, we \"predict\" the number of books a student read from whether or not they had a readathon, $W$, producing an estimate $\\hat{Z}$.\n",
    "2. Then, in the second stage, we regress the SAT score $Y$ onto the predicted number of books read $\\hat{Z}$."
   ]
  },
  {
   "cell_type": "markdown",
   "id": "c8dcafa7",
   "metadata": {},
   "source": [
    "## 3a) Stage 1: Predict treatment variable $\\hat{Z}$ from instrumental variable $W$"
   ]
  },
  {
   "cell_type": "markdown",
   "id": "f6cf5a1f",
   "metadata": {},
   "source": [
    "### 3a.i) Fitting the model\n",
    "\n",
    "Complete the code below to fit an OLS model that predicts $\\hat{Z}$ (estimated number of books read) using $W$ (whether they had a readathon).\n",
    "\n",
    "$$\\hat\\gamma_1, \\hat c = \\arg\\min_{\\gamma_1, c} \\Vert Z - \\gamma_1W - c\\Vert_2^2$$"
   ]
  },
  {
   "cell_type": "code",
   "execution_count": null,
   "id": "04a8d350",
   "metadata": {
    "tags": []
   },
   "outputs": [],
   "source": [
    "# Fit OLS parameters to predict Z from W\n",
    "gamma1_model = ...\n",
    "print(gamma1_model.summary())"
   ]
  },
  {
   "cell_type": "code",
   "execution_count": null,
   "id": "fd58c92e",
   "metadata": {
    "deletable": false,
    "editable": false
   },
   "outputs": [],
   "source": [
    "grader.check(\"q3a_i\")"
   ]
  },
  {
   "cell_type": "code",
   "execution_count": null,
   "id": "9e0a6282",
   "metadata": {},
   "outputs": [],
   "source": [
    "print(\"The OLS estimate of gamma_1 is {:.3f}, while the true gamma_1 is {}\".format(gamma1_model.params[1], 1))"
   ]
  },
  {
   "cell_type": "markdown",
   "id": "7787d6f8",
   "metadata": {},
   "source": [
    "<!-- BEGIN QUESTION -->\n",
    "\n",
    "### 3a.ii) Understanding the first stage\n",
    "\n",
    "We observe that the estimate of $\\gamma_1$ above is very close to the true value, even though we don't make use of the `Income` variable. How can you explain this?\n",
    "\n",
    "*Hint: Think about independence, and how the relationship between X and Z might be affected by the relationship between W and Z.*"
   ]
  },
  {
   "cell_type": "markdown",
   "id": "5c30bc43",
   "metadata": {},
   "source": [
    "_Type your answer here, replacing this text._"
   ]
  },
  {
   "cell_type": "markdown",
   "id": "7b880b69",
   "metadata": {},
   "source": [
    "<!-- END QUESTION -->\n",
    "\n",
    "### 3a.iii) (OPTIONAL - NOT GRADED) \n",
    "\n",
    "We just saw that the estimate for $\\gamma_1$ is unbiased for the true value with only $W$. Back in Question 1 we also did a regression to get $\\gamma_1$ where we included both $W$ and $X$ as regressors. What additional benefit does including $X$ give for estimating $\\gamma_1$?"
   ]
  },
  {
   "cell_type": "markdown",
   "id": "4169c355",
   "metadata": {},
   "source": [
    "_Type your answer here, replacing this text._"
   ]
  },
  {
   "cell_type": "markdown",
   "id": "4a7c727d",
   "metadata": {},
   "source": [
    "## Getting ready for Stage 2\n",
    "\n",
    "Now we can use the OLS model above to create $\\hat Z$ predictions that we'll need in stage 2!"
   ]
  },
  {
   "cell_type": "code",
   "execution_count": null,
   "id": "c3e3827c",
   "metadata": {},
   "outputs": [],
   "source": [
    "# Compute predictions for number of books read\n",
    "intercept_OLS = gamma1_model.params[0]\n",
    "gamma1_OLS = gamma1_model.params[1]\n",
    "Z_hat = intercept_OLS + gamma1_OLS*student_data['ReadathonDuration']\n",
    "\n",
    "# Add the predictions to the student_data dataframe\n",
    "student_data['PredictedNumBooks'] = Z_hat\n",
    "student_data.head()"
   ]
  },
  {
   "cell_type": "markdown",
   "id": "8a0a08e9",
   "metadata": {},
   "source": [
    "## 3b) Stage 2: Estimate target $Y$ from predicted treatment variable $\\hat{X}_1$\n",
    "Complete the code below to fit an OLS model that predicts $Y$ (SAT score) using $Z_hat$ (estimated number of books read).\n",
    "$$\\hat \\beta_1, \\hat c = \\arg\\min_{\\beta_1, c}\\Vert Y-\\beta_1\\hat Z - c\\Vert_2^2$$"
   ]
  },
  {
   "cell_type": "code",
   "execution_count": null,
   "id": "3392d02c",
   "metadata": {
    "tags": []
   },
   "outputs": [],
   "source": [
    "# Fit OLS parameters to predict Y from the predicted Z_hat.\n",
    "beta1_model = ...\n",
    "print(beta1_model.summary())"
   ]
  },
  {
   "cell_type": "code",
   "execution_count": null,
   "id": "bfbb8266",
   "metadata": {
    "deletable": false,
    "editable": false
   },
   "outputs": [],
   "source": [
    "grader.check(\"q3b\")"
   ]
  },
  {
   "cell_type": "code",
   "execution_count": null,
   "id": "6ec0d8e3",
   "metadata": {},
   "outputs": [],
   "source": [
    "print(\"The 2SLS estimate of beta_1 is {:.3f}, while the true value is {}\".format(beta1_model.params[1], 5))"
   ]
  },
  {
   "cell_type": "markdown",
   "id": "3c496fdd",
   "metadata": {},
   "source": [
    "## 3.c) Conceptual Questions"
   ]
  },
  {
   "cell_type": "markdown",
   "id": "7bcca2eb",
   "metadata": {},
   "source": [
    "<!-- BEGIN QUESTION -->\n",
    "\n",
    "#### 3.c.i) Which technique produced a better estimate of $\\beta_1$, naive OLS or 2SLS?"
   ]
  },
  {
   "cell_type": "markdown",
   "id": "96fcf9d0",
   "metadata": {},
   "source": [
    "_Type your answer here, replacing this text._"
   ]
  },
  {
   "cell_type": "markdown",
   "id": "2b23e71b",
   "metadata": {},
   "source": [
    "<!-- END QUESTION -->\n",
    "\n",
    "<!-- BEGIN QUESTION -->\n",
    "\n",
    "#### 3.c.ii) Qualitatively, how would you describe the predictions $\\hat Z$? How do they compare to the original $Z$? What sources of variation do they remove?"
   ]
  },
  {
   "cell_type": "markdown",
   "id": "7c41564e",
   "metadata": {},
   "source": [
    "*Hint: If it helps to see the predicted and original values, you can look at the dataframe `student_data` or look at the snippet above printed out right before Stage 2.*"
   ]
  },
  {
   "cell_type": "markdown",
   "id": "d2f44694",
   "metadata": {},
   "source": [
    "_Type your answer here, replacing this text._"
   ]
  },
  {
   "cell_type": "markdown",
   "id": "bb6daef7",
   "metadata": {},
   "source": [
    "<!-- END QUESTION -->\n",
    "\n",
    "## Congratulations! You have finished Lab 9!"
   ]
  },
  {
   "cell_type": "markdown",
   "id": "731d3baa",
   "metadata": {},
   "source": [
    "You've reached the end of the lab!\n",
    "\n",
    "Before you submit to Gradescope, make sure you pass all the autograded portions of this lab. **Run the cell below to generate a PDF of your lab submission**, and **run the last cell to generate a zip file of your lab submission.** Do **not** create your lab PDF by exporting your notebook to a PDF.\n",
    "\n",
    "To submit your lab to Gradescope, submit the PDF to Lab 8 Written and the zip file to Lab 9 Code."
   ]
  },
  {
   "cell_type": "code",
   "execution_count": null,
   "id": "e705d005",
   "metadata": {},
   "outputs": [],
   "source": [
    "import matplotlib.image as mpimg\n",
    "from otter.export import export_notebook\n",
    "from os import path\n",
    "from IPython.display import display, HTML\n",
    "export_notebook(\"lab09.ipynb\", filtering=True, pagebreaks=True)\n",
    "if(path.exists('lab09.pdf')):\n",
    "    img = mpimg.imread('floof.jpg')\n",
    "    imgplot = plt.imshow(img)\n",
    "    imgplot.axes.get_xaxis().set_visible(False)\n",
    "    imgplot.axes.get_yaxis().set_visible(False)\n",
    "    plt.show()\n",
    "    display(HTML(\"Download your PDF <a href='lab09.pdf' download>here</a>.\"))"
   ]
  },
  {
   "cell_type": "code",
   "execution_count": null,
   "id": "bb4ac7a4",
   "metadata": {},
   "outputs": [],
   "source": []
  },
  {
   "cell_type": "code",
   "execution_count": null,
   "id": "99dc4613",
   "metadata": {},
   "outputs": [],
   "source": []
  },
  {
   "cell_type": "code",
   "execution_count": null,
   "id": "b7f042b2",
   "metadata": {},
   "outputs": [],
   "source": []
  },
  {
   "cell_type": "markdown",
   "id": "7d100a73",
   "metadata": {
    "deletable": false,
    "editable": false
   },
   "source": [
    "## Submission\n",
    "\n",
    "Make sure you have run all cells in your notebook in order before running the cell below, so that all images/graphs appear in the output. The cell below will generate a zip file for you to submit. **Please save before exporting!**"
   ]
  },
  {
   "cell_type": "code",
   "execution_count": null,
   "id": "f444cf77",
   "metadata": {
    "deletable": false,
    "editable": false
   },
   "outputs": [],
   "source": [
    "# Save your notebook first, then run this cell to export your submission.\n",
    "grader.export(run_tests=True)"
   ]
  },
  {
   "cell_type": "markdown",
   "id": "600f7d6f",
   "metadata": {},
   "source": [
    " "
   ]
  }
 ],
 "metadata": {
  "kernelspec": {
   "display_name": "Python 3 (ipykernel)",
   "language": "python",
   "name": "python3"
  },
  "language_info": {
   "codemirror_mode": {
    "name": "ipython",
    "version": 3
   },
   "file_extension": ".py",
   "mimetype": "text/x-python",
   "name": "python",
   "nbconvert_exporter": "python",
   "pygments_lexer": "ipython3",
   "version": "3.11.3"
  },
  "otter": {
   "OK_FORMAT": true,
   "tests": {
    "q1d": {
     "name": "q1d",
     "points": 1,
     "suites": [
      {
       "cases": [
        {
         "code": ">>> betas = betas_model.params\n>>> checks = [len(betas) == 2,\n...           np.abs(betas['NumBooks']-5) < 0.1,\n...           np.abs(betas['Income']-12) < 0.1]\n>>> assert np.all(checks)\n",
         "hidden": false,
         "locked": false
        }
       ],
       "scored": true,
       "setup": "",
       "teardown": "",
       "type": "doctest"
      }
     ]
    },
    "q2a": {
     "name": "q2a",
     "points": 1,
     "suites": [
      {
       "cases": [
        {
         "code": ">>> params = beta_naive_model.params\n>>> checks = [len(params)==2,\n...           np.abs(params[0] - 42.85)<0.5,\n...           np.abs(params[1] - 12.96)<0.2]\n>>> assert np.all(checks)\n",
         "hidden": false,
         "locked": false
        }
       ],
       "scored": true,
       "setup": "",
       "teardown": "",
       "type": "doctest"
      }
     ]
    },
    "q3a_i": {
     "name": "q3a_i",
     "points": 1,
     "suites": [
      {
       "cases": [
        {
         "code": ">>> params = gamma1_model.params\n>>> checks = [len(params)==2,\n...           np.abs(params[0] - 50.16)<0.5,\n...           np.abs(params[1] - 1)<0.1]\n>>> assert np.all(checks)\n",
         "hidden": false,
         "locked": false
        }
       ],
       "scored": true,
       "setup": "",
       "teardown": "",
       "type": "doctest"
      }
     ]
    },
    "q3b": {
     "name": "q3b",
     "points": 1,
     "suites": [
      {
       "cases": [
        {
         "code": ">>> params = beta1_model.params\n>>> checks = [len(params)==2,\n...           np.abs(params[0] - 612)<5,\n...           np.abs(params[1] - 4.84)<0.3]\n>>> assert np.all(checks)\n",
         "hidden": false,
         "locked": false
        }
       ],
       "scored": true,
       "setup": "",
       "teardown": "",
       "type": "doctest"
      }
     ]
    }
   }
  }
 },
 "nbformat": 4,
 "nbformat_minor": 5
}
